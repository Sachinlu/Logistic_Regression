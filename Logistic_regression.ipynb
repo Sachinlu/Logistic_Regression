{
  "nbformat": 4,
  "nbformat_minor": 0,
  "metadata": {
    "colab": {
      "name": "Logistic_regression(Question_8).ipynb",
      "provenance": [],
      "collapsed_sections": []
    },
    "kernelspec": {
      "name": "python3",
      "display_name": "Python 3"
    },
    "language_info": {
      "name": "python"
    }
  },
  "cells": [
    {
      "cell_type": "code",
      "metadata": {
        "id": "wcGawIqaSIKJ",
        "colab": {
          "base_uri": "https://localhost:8080/"
        },
        "outputId": "293746b2-6ea3-476a-f19a-aeeb39aff81d"
      },
      "source": [
        "%pylab inline"
      ],
      "execution_count": 1,
      "outputs": [
        {
          "output_type": "stream",
          "name": "stdout",
          "text": [
            "Populating the interactive namespace from numpy and matplotlib\n"
          ]
        }
      ]
    },
    {
      "cell_type": "code",
      "metadata": {
        "id": "pZ3GxtEKW8vV"
      },
      "source": [
        "# Important Imports \n",
        "import glob\n",
        "\n",
        "#Reading all files from given dataset 1 \n",
        "path = r'/content/drive/MyDrive/Pattern Rec/training_validation' # use your path\n",
        "all_files = glob.glob(path + \"/class_[0,6]_*\")"
      ],
      "execution_count": 55,
      "outputs": []
    },
    {
      "cell_type": "code",
      "metadata": {
        "colab": {
          "base_uri": "https://localhost:8080/"
        },
        "id": "Z5lw0tNhXYi0",
        "outputId": "980c5f7f-2802-403b-e778-c4fa8f9439d2"
      },
      "source": [
        "# Loading data files from dataset 1\n",
        "print(f\"total no of files found: {len(all_files)}\")\n",
        "\n",
        "main_data = pd.DataFrame(columns=range(0, 1025))\n",
        "print(f\"main dataframe created with shape: {main_data.shape}\")"
      ],
      "execution_count": 56,
      "outputs": [
        {
          "output_type": "stream",
          "name": "stdout",
          "text": [
            "total no of files found: 384\n",
            "main dataframe created with shape: (0, 1025)\n"
          ]
        }
      ]
    },
    {
      "cell_type": "code",
      "metadata": {
        "id": "CTwxLUKqXaxK"
      },
      "source": [
        "# convert the value into list comma seperated value\n",
        "def to_list(li):\n",
        "  l = []\n",
        "  for i in range(32):\n",
        "    l.extend(list(li['data'][i]))\n",
        "\n",
        "  return l"
      ],
      "execution_count": 6,
      "outputs": []
    },
    {
      "cell_type": "code",
      "metadata": {
        "id": "8yiQoFQnXdab"
      },
      "source": [
        "mydic = {}\n",
        "def create_dict(myList, outputClass):\n",
        "  for i in range(len(myList)+1):\n",
        "    if i == 1024:\n",
        "      mydic[i] = outputClass\n",
        "    else:\n",
        "      mydic[i] = myList[i]\n",
        "    \n",
        "  return mydic"
      ],
      "execution_count": 7,
      "outputs": []
    },
    {
      "cell_type": "code",
      "metadata": {
        "id": "P_ovqYkMXgCn"
      },
      "source": [
        "for filenames in all_files:  \n",
        "  # find the class name of the file\n",
        "  class_name = str(filenames[(filenames.find('class_') + 6)])\n",
        "  #print(f\"Sample belongs to class: {class_name}\")\n",
        "  # pick one smaple file from class\n",
        "  temp = pd.read_csv(filenames, names=[\"data\"])\n",
        "  to_append = to_list(temp)\n",
        "  myDict = create_dict(to_append, class_name)\n",
        "  main_data = main_data.append(myDict, ignore_index=True)"
      ],
      "execution_count": 8,
      "outputs": []
    },
    {
      "cell_type": "code",
      "metadata": {
        "colab": {
          "base_uri": "https://localhost:8080/"
        },
        "id": "9XgGoN9AXjWo",
        "outputId": "16c5f690-f54e-430c-e9db-384491bc6b43"
      },
      "source": [
        "main_data.shape"
      ],
      "execution_count": 9,
      "outputs": [
        {
          "output_type": "execute_result",
          "data": {
            "text/plain": [
              "(384, 1025)"
            ]
          },
          "metadata": {},
          "execution_count": 9
        }
      ]
    },
    {
      "cell_type": "code",
      "metadata": {
        "id": "pviDUyQZZvUg"
      },
      "source": [
        "# Seperating features and target class\n",
        "X = main_data[[i for i in range(1024)]].astype(np.float32)\n",
        "y = main_data[[1024]].to_numpy()\n",
        "y = np.where( y == '6', '1', y)\n",
        "y = y.ravel()"
      ],
      "execution_count": 10,
      "outputs": []
    },
    {
      "cell_type": "code",
      "metadata": {
        "id": "EaxQeyitZgp6"
      },
      "source": [
        "# Splitting data into test and train\n",
        "from sklearn.model_selection import train_test_split\n",
        "X_train, X_test, y_train, y_test = train_test_split(X, y, test_size=0.30, random_state=4) "
      ],
      "execution_count": 11,
      "outputs": []
    },
    {
      "cell_type": "code",
      "metadata": {
        "id": "4fSTHQIoZqvL"
      },
      "source": [
        "X_train = X_train.astype(int)\n",
        "X_test = X_test.astype(int)\n",
        "y_train = y_train.astype(int)\n",
        "y_test = y_test.astype(int)"
      ],
      "execution_count": 12,
      "outputs": []
    },
    {
      "cell_type": "code",
      "metadata": {
        "id": "xvoCe3pZvk5F"
      },
      "source": [
        "# Defining accuracy function for our model\n",
        "def accuracy(y_true, y_pred):\n",
        "        accuracy = np.sum(y_true == y_pred) / len(y_true)\n",
        "        return accuracy"
      ],
      "execution_count": 42,
      "outputs": []
    },
    {
      "cell_type": "code",
      "metadata": {
        "id": "raxlvRfYvbwo"
      },
      "source": [
        "# building own logistic regression\n",
        "class logic():\n",
        "\n",
        "  def __init__(self, lr=0.001, iter = 100):\n",
        "   \n",
        "    self.weights = None\n",
        "    self.bias = None\n",
        "    self.lr = lr\n",
        "    self.iter = iter\n",
        "    \n",
        "\n",
        "  def fit(self, X, y):\n",
        "      n_samples, n_features = X.shape\n",
        "      self.bias = 0\n",
        "      self.weights = np.zeros(n_features)\n",
        "      \n",
        "      # applying gradient descent to optimize the algorithm.\n",
        "      for _ in range(self.iter):\n",
        "          structure = np.dot(X, self.weights) + self.bias\n",
        "          #apply sigmoid\n",
        "          y_pred = self.sigmoid_activation(structure)\n",
        "          dw = (1 / n_samples) * np.dot(X.T, (y_pred - y))\n",
        "          db = (1 / n_samples) * np.sum(y_pred - y)\n",
        "          # update parameters\n",
        "          self.weights -= self.lr * dw\n",
        "          self.bias -= self.lr * db\n",
        "      print(f\" final weight: {self.weights}\")\n",
        "      print(f\"final bias:{self.bias}\")\n",
        "      print(f'Learning rate: {self.lr}') \n",
        "      print(f'epochs: {self.iter}')   \n",
        "  \n",
        "  def predict(self, X):\n",
        "        y_predicted_cls = []  \n",
        "        structure = np.dot(X, self.weights) + self.bias\n",
        "        y_predicted = self.sigmoid_activation(structure)\n",
        "        for i in y_predicted:\n",
        "          if i > 0.5:\n",
        "            y_predicted_cls.append(1)\n",
        "          else:\n",
        "            y_predicted_cls.append(0)  \n",
        "        # y_predicted_cls = [1 if i > 0.5 else 0 for i in y_predicted]\n",
        "        return np.array(y_predicted_cls)\n",
        "  \n",
        " \n",
        "  # The sigmoid activation function\n",
        "  def sigmoid_activation(self, X_input):\n",
        "          return 1. / (1. + np.exp(-X_input))"
      ],
      "execution_count": 48,
      "outputs": []
    },
    {
      "cell_type": "markdown",
      "metadata": {
        "id": "_xqpDRyOvtz1"
      },
      "source": [
        "**REFERENCE:-** https://github.com/python-engineer/MLfromscratch/"
      ]
    },
    {
      "cell_type": "code",
      "metadata": {
        "id": "_tvJchdPZ0WN"
      },
      "source": [
        "# Creating object of model class\n",
        "regre = logic(lr=0.01, iter=1000)"
      ],
      "execution_count": 50,
      "outputs": []
    },
    {
      "cell_type": "code",
      "metadata": {
        "id": "tVrB0jzZaJSz",
        "colab": {
          "base_uri": "https://localhost:8080/"
        },
        "outputId": "4d814b97-f492-4d94-bf8f-8cb6bd0abdbf"
      },
      "source": [
        "# Training model \n",
        "regre.fit(X_train, y_train)"
      ],
      "execution_count": 51,
      "outputs": [
        {
          "output_type": "stream",
          "name": "stdout",
          "text": [
            " final weight: [ 0.00093043  0.00505931 -0.00590717 ...  0.          0.\n",
            "  0.        ]\n",
            "final bias:0.006488884521035741\n",
            "Learning rate: 0.01\n",
            "epochs: 1000\n"
          ]
        }
      ]
    },
    {
      "cell_type": "code",
      "metadata": {
        "id": "t2LdxkmOamBP"
      },
      "source": [
        "# Making prediction on test split of training data\n",
        "prediction = regre.predict(X_test)"
      ],
      "execution_count": 46,
      "outputs": []
    },
    {
      "cell_type": "code",
      "metadata": {
        "id": "1L3b_rW5byfj",
        "colab": {
          "base_uri": "https://localhost:8080/"
        },
        "outputId": "f8d319be-8242-4cea-eea7-88c8bdb9c16a"
      },
      "source": [
        "# Evaluating Model\n",
        "print(\"LR classification accuracy:\", accuracy(y_test, prediction) * 100)"
      ],
      "execution_count": 52,
      "outputs": [
        {
          "output_type": "stream",
          "name": "stdout",
          "text": [
            "LR classification accuracy: 100.0\n"
          ]
        }
      ]
    },
    {
      "cell_type": "code",
      "metadata": {
        "id": "v_Qd7onSeTVl",
        "colab": {
          "base_uri": "https://localhost:8080/"
        },
        "outputId": "ad107c61-3e1c-44f7-c022-70b554c462ba"
      },
      "source": [
        "# Loading the test file of Dataset 1 to Test our model\n",
        "path = r'/content/drive/MyDrive/Pattern Rec/test' # use your path\n",
        "new_test_file = glob.glob(path + \"/class_[0,6]_*\")\n",
        "print(f\"total no of files found: {len(new_test_file)}\")"
      ],
      "execution_count": 26,
      "outputs": [
        {
          "output_type": "stream",
          "name": "stdout",
          "text": [
            "total no of files found: 174\n"
          ]
        }
      ]
    },
    {
      "cell_type": "code",
      "metadata": {
        "colab": {
          "base_uri": "https://localhost:8080/"
        },
        "id": "bkZkrRb66cSx",
        "outputId": "f1dce10c-79fd-4edb-d05b-778b17c488cf"
      },
      "source": [
        "test_data = pd.DataFrame(columns=range(0, 1025))\n",
        "print(f\"test dataframe created with shape: {test_data.shape}\")"
      ],
      "execution_count": 29,
      "outputs": [
        {
          "output_type": "stream",
          "name": "stdout",
          "text": [
            "test dataframe created with shape: (0, 1025)\n"
          ]
        }
      ]
    },
    {
      "cell_type": "code",
      "metadata": {
        "id": "U-28Usfr6hs4"
      },
      "source": [
        "for filenames in new_test_file:\n",
        "  # find the class name of the file\n",
        "  class_name = str(filenames[(filenames.find('class_') + 6)])\n",
        "  #print(f\"Sample belongs to class: {class_name}\")\n",
        "  # pick one smaple file from class\n",
        "  temp = pd.read_csv(filenames, names=[\"data\"])\n",
        "  to_append = to_list(temp)\n",
        "  myDict = create_dict(to_append, class_name)\n",
        "  test_data = test_data.append(myDict, ignore_index=True)"
      ],
      "execution_count": 30,
      "outputs": []
    },
    {
      "cell_type": "code",
      "metadata": {
        "colab": {
          "base_uri": "https://localhost:8080/"
        },
        "id": "78ilIFw86kSZ",
        "outputId": "f82a6354-efb9-4844-ef03-00ae18aa8f6d"
      },
      "source": [
        "test_data.shape"
      ],
      "execution_count": 31,
      "outputs": [
        {
          "output_type": "execute_result",
          "data": {
            "text/plain": [
              "(174, 1025)"
            ]
          },
          "metadata": {},
          "execution_count": 31
        }
      ]
    },
    {
      "cell_type": "code",
      "metadata": {
        "id": "g7YWp2rZ6m7Y"
      },
      "source": [
        "# Seprating the test data into features and label\n",
        "test_content = test_data[[i for i in range(0, 1024)]].to_numpy()\n",
        "test_label = test_data[[1024]].to_numpy()\n",
        "test_label = np.where( test_label == '6', '1', test_label)\n",
        "test_label = test_label.ravel()"
      ],
      "execution_count": 32,
      "outputs": []
    },
    {
      "cell_type": "code",
      "metadata": {
        "id": "2rSGO8WY7MMv"
      },
      "source": [
        "test_label=test_label.astype(int)\n",
        "test_content=test_content.astype(int)"
      ],
      "execution_count": 33,
      "outputs": []
    },
    {
      "cell_type": "code",
      "metadata": {
        "id": "a8aHFV1E66vA"
      },
      "source": [
        "# prediction on Test data of dataset 1 \n",
        "Test_pred = regre.predict(test_content)"
      ],
      "execution_count": 53,
      "outputs": []
    },
    {
      "cell_type": "code",
      "metadata": {
        "colab": {
          "base_uri": "https://localhost:8080/"
        },
        "id": "DxuF0Elt7GfG",
        "outputId": "d9c56c73-be9a-407a-c5dd-402816c236ed"
      },
      "source": [
        "# Evaluating model\n",
        "test_acc = accuracy(test_label, Test_pred)\n",
        "print(f'accuracy of the model on test data of dataset1 is: {test_acc * 100}')"
      ],
      "execution_count": 54,
      "outputs": [
        {
          "output_type": "stream",
          "name": "stdout",
          "text": [
            "accuracy of the model on test data of dataset1 is: 99.42528735632183\n"
          ]
        }
      ]
    }
  ]
}